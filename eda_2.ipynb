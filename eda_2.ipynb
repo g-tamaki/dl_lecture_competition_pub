{
 "cells": [
  {
   "cell_type": "markdown",
   "metadata": {},
   "source": [
    "CLIPで工夫したもの\n",
    "\n",
    "1235(28)\n",
    "\n",
    "lossを計算するときに、長さを1にする処理を入れた\n",
    "1242(29)\n",
    "あまり変わらない\n",
    "\n",
    "subject_id = 0, 長さ1\n",
    "1420(31,32)\n",
    "\n",
    "長さ1, fft\n",
    "0.00709(33)\n",
    "fftはダメそう それとも過学習しない良さがある？\n",
    "\n",
    "長さ1, fft, subject_id = 0\n",
    "875(35)\n",
    "やっぱりfftはscoreが悪い\n",
    "\n",
    "長さ1, GCN\n",
    "(34)\n",
    "\n",
    "長さ1, GCN, subject_id = 0\n",
    "1697(36)\n",
    "\n",
    "長さ1, チャネル正規化, subject_id = 0\n",
    "2399(37)\n",
    "\n",
    "長さ1, チャネル正規化, GCN, subject_id = 0\n",
    "2399(38) チャンネル正規化だけと変わらない"
   ]
  }
 ],
 "metadata": {
  "language_info": {
   "name": "python"
  }
 },
 "nbformat": 4,
 "nbformat_minor": 2
}
