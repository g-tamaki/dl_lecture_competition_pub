{
 "cells": [
  {
   "cell_type": "markdown",
   "metadata": {},
   "source": [
    "#### glu層を入れたモデル\n",
    "image_featの標準化、チャネル正規化, subject_id = 0, im_feat標準化なしin loss  \n",
    "ConvBlock(in_channels, hid_dim), ConvBlock(hid_dim, hid_dim),  \n",
    "hid_dim=128, p_drop=0.1, lr=0.001   2975(101)  \n",
    "hid_dim=128, p_drop=0.1, lr=0.0005  3370(102)  \n",
    "hid_dim=128, p_drop=0.1, lr=0.0002  3180(103)  \n",
    "hid_dim=128, p_drop=0.1, lr=0.0001  2391(104)  \n",
    "\n",
    "hid_dim=64, p_drop=0.1, lr=0.001   3235(105)  \n",
    "hid_dim=64, p_drop=0.1, lr=0.0005  3307(106)  \n",
    "hid_dim=64, p_drop=0.1, lr=0.0002  2975(107)  \n",
    "hid_dim=64, p_drop=0.1, lr=0.0001  2857(108)  \n",
    "\n",
    "hid_dim=32, p_drop=0.1, lr=0.001   3235(109)  \n",
    "hid_dim=32, p_drop=0.1, lr=0.0005  3259(110)  \n",
    "hid_dim=32, p_drop=0.1, lr=0.0002  2999(111)  \n",
    "hid_dim=32, p_drop=0.1, lr=0.0001  2833(112)  \n",
    "あまり上がらない..."
   ]
  },
  {
   "cell_type": "markdown",
   "metadata": {},
   "source": [
    "Dilated conv する\n"
   ]
  },
  {
   "cell_type": "markdown",
   "metadata": {},
   "source": [
    "batch_sizeを大きくする"
   ]
  },
  {
   "cell_type": "code",
   "execution_count": null,
   "metadata": {},
   "outputs": [],
   "source": []
  }
 ],
 "metadata": {
  "language_info": {
   "name": "python"
  }
 },
 "nbformat": 4,
 "nbformat_minor": 2
}
